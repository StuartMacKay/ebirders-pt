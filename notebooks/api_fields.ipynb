{
 "cells": [
  {
   "cell_type": "code",
   "id": "0b1a34e0-8554-4510-93e1-135f5a5a8335",
   "metadata": {
    "editable": true,
    "slideshow": {
     "slide_type": ""
    },
    "tags": [],
    "ExecuteTime": {
     "end_time": "2025-06-13T10:31:35.179875Z",
     "start_time": "2025-06-13T10:31:35.171498Z"
    }
   },
   "source": [
    "\"\"\"\n",
    "API Fields.\n",
    "\n",
    "This notebook shows the data returned by the three API calls made by the\n",
    "APILoader. eBird has been known to change the API 2.0 without notice -\n",
    "checklist comments being the most recent example known. Run this notebook\n",
    "periodically to check for changes.\n",
    "\n",
    "\"\"\"\n",
    "import json\n",
    "\n",
    "from faker import Faker\n",
    "\n",
    "from config import settings\n",
    "\n",
    "from ebird.api import get_visits, get_checklist, get_taxonomy\n",
    "\n",
    "# Randomly choose a country to load checklists for.\n",
    "region = Faker().country_code()"
   ],
   "outputs": [],
   "execution_count": 61
  },
  {
   "cell_type": "code",
   "id": "b4166d7e-187e-47c3-a749-b0fd121946d3",
   "metadata": {
    "ExecuteTime": {
     "end_time": "2025-06-13T10:31:35.780737Z",
     "start_time": "2025-06-13T10:31:35.226760Z"
    }
   },
   "source": [
    "visit = get_visits(settings.EBIRD_API_KEY, region, max_results=1)[0]\n",
    "print(json.dumps(visit, indent=2))"
   ],
   "outputs": [
    {
     "name": "stdout",
     "output_type": "stream",
     "text": [
      "{\n",
      "  \"locId\": \"L46830178\",\n",
      "  \"subId\": \"S246751918\",\n",
      "  \"userDisplayName\": \"Shawn Baker\",\n",
      "  \"numSpecies\": 7,\n",
      "  \"obsDt\": \"4 Jun 2025\",\n",
      "  \"obsTime\": \"18:04\",\n",
      "  \"isoObsDate\": \"2025-06-04 18:04\",\n",
      "  \"subID\": \"S246751918\",\n",
      "  \"loc\": {\n",
      "    \"locId\": \"L46830178\",\n",
      "    \"name\": \"Makeni, Northern Province, SL (8.881, -12.033)\",\n",
      "    \"latitude\": 8.8807311,\n",
      "    \"longitude\": -12.0332194,\n",
      "    \"countryCode\": \"SL\",\n",
      "    \"countryName\": \"Sierra Leone\",\n",
      "    \"subnational1Name\": \"Northern\",\n",
      "    \"subnational1Code\": \"SL-N\",\n",
      "    \"isHotspot\": false,\n",
      "    \"locID\": \"L46830178\",\n",
      "    \"locName\": \"Makeni, Northern Province, SL (8.881, -12.033)\",\n",
      "    \"lat\": 8.8807311,\n",
      "    \"lng\": -12.0332194,\n",
      "    \"hierarchicalName\": \"Makeni, Northern Province, SL (8.881, -12.033), Northern, SL\"\n",
      "  }\n",
      "}\n"
     ]
    }
   ],
   "execution_count": 62
  },
  {
   "cell_type": "code",
   "id": "c65dcfd0-b1fa-4c55-ba87-85472ffed42a",
   "metadata": {
    "ExecuteTime": {
     "end_time": "2025-06-13T10:31:36.026239Z",
     "start_time": "2025-06-13T10:31:36.020193Z"
    }
   },
   "source": [
    "# Fields used by the APILoader\n",
    "# The checklist identifier is also used in the next step\n",
    "subId = visit.pop(\"subId\")\n",
    "visit.pop(\"locId\")\n",
    "\n",
    "# Fields that are aliases\n",
    "visit.pop(\"subID\")\n",
    "\n",
    "# Remove the location fields for the next step\n",
    "location = visit.pop(\"loc\")\n",
    "\n",
    "# Unused fields\n",
    "print(json.dumps(visit, indent=2))"
   ],
   "outputs": [
    {
     "name": "stdout",
     "output_type": "stream",
     "text": [
      "{\n",
      "  \"userDisplayName\": \"Shawn Baker\",\n",
      "  \"numSpecies\": 7,\n",
      "  \"obsDt\": \"4 Jun 2025\",\n",
      "  \"obsTime\": \"18:04\",\n",
      "  \"isoObsDate\": \"2025-06-04 18:04\"\n",
      "}\n"
     ]
    }
   ],
   "execution_count": 63
  },
  {
   "cell_type": "code",
   "id": "5119ef80-c866-42a8-b1c7-4275cd93d5a8",
   "metadata": {
    "ExecuteTime": {
     "end_time": "2025-06-13T10:31:36.087094Z",
     "start_time": "2025-06-13T10:31:36.083246Z"
    }
   },
   "source": "print(json.dumps(location, indent=2))",
   "outputs": [
    {
     "name": "stdout",
     "output_type": "stream",
     "text": [
      "{\n",
      "  \"locId\": \"L46830178\",\n",
      "  \"name\": \"Makeni, Northern Province, SL (8.881, -12.033)\",\n",
      "  \"latitude\": 8.8807311,\n",
      "  \"longitude\": -12.0332194,\n",
      "  \"countryCode\": \"SL\",\n",
      "  \"countryName\": \"Sierra Leone\",\n",
      "  \"subnational1Name\": \"Northern\",\n",
      "  \"subnational1Code\": \"SL-N\",\n",
      "  \"isHotspot\": false,\n",
      "  \"locID\": \"L46830178\",\n",
      "  \"locName\": \"Makeni, Northern Province, SL (8.881, -12.033)\",\n",
      "  \"lat\": 8.8807311,\n",
      "  \"lng\": -12.0332194,\n",
      "  \"hierarchicalName\": \"Makeni, Northern Province, SL (8.881, -12.033), Northern, SL\"\n",
      "}\n"
     ]
    }
   ],
   "execution_count": 64
  },
  {
   "cell_type": "code",
   "id": "2430520f-f564-43bf-990e-6038e2278813",
   "metadata": {
    "ExecuteTime": {
     "end_time": "2025-06-13T10:31:36.145942Z",
     "start_time": "2025-06-13T10:31:36.137130Z"
    }
   },
   "source": [
    "# Fields used by the APILoader\n",
    "location.pop(\"locId\")\n",
    "location.pop(\"name\")\n",
    "location.pop(\"isHotspot\")\n",
    "location.pop(\"latitude\")\n",
    "location.pop(\"longitude\")\n",
    "location.pop(\"countryCode\")\n",
    "location.pop(\"countryName\")\n",
    "location.pop(\"subnational1Code\")\n",
    "location.pop(\"subnational1Name\")\n",
    "location.pop(\"subnational2Code\", None)\n",
    "location.pop(\"subnational2Name\", None)\n",
    "\n",
    "# Remove fields that are aliases\n",
    "location.pop(\"locID\")\n",
    "location.pop(\"locName\")\n",
    "location.pop(\"lat\")\n",
    "location.pop(\"lng\")\n",
    "\n",
    "# Unused fields\n",
    "print(json.dumps(location, indent=2))"
   ],
   "outputs": [
    {
     "name": "stdout",
     "output_type": "stream",
     "text": [
      "{\n",
      "  \"hierarchicalName\": \"Makeni, Northern Province, SL (8.881, -12.033), Northern, SL\"\n",
      "}\n"
     ]
    }
   ],
   "execution_count": 65
  },
  {
   "cell_type": "code",
   "id": "ae34eaf0-e8d4-46f0-b77e-2485827a5fc2",
   "metadata": {
    "ExecuteTime": {
     "end_time": "2025-06-13T10:31:36.804632Z",
     "start_time": "2025-06-13T10:31:36.201977Z"
    }
   },
   "source": [
    "checklist = get_checklist(settings.EBIRD_API_KEY, subId)\n",
    "print(json.dumps(checklist, indent=2))"
   ],
   "outputs": [
    {
     "name": "stdout",
     "output_type": "stream",
     "text": [
      "{\n",
      "  \"projId\": \"EBIRD\",\n",
      "  \"subId\": \"S246751918\",\n",
      "  \"protocolId\": \"P22\",\n",
      "  \"locId\": \"L46830178\",\n",
      "  \"durationHrs\": 0.55,\n",
      "  \"allObsReported\": true,\n",
      "  \"creationDt\": \"2025-06-04 17:30\",\n",
      "  \"lastEditedDt\": \"2025-06-04 17:30\",\n",
      "  \"obsDt\": \"2025-06-04 18:04\",\n",
      "  \"obsTimeValid\": true,\n",
      "  \"checklistId\": \"CL26309\",\n",
      "  \"numObservers\": 1,\n",
      "  \"effortDistanceKm\": 0.78,\n",
      "  \"effortDistanceEnteredUnit\": \"km\",\n",
      "  \"subnational1Code\": \"SL-N\",\n",
      "  \"submissionMethodCode\": \"EBIRD_android\",\n",
      "  \"submissionMethodVersion\": \"3.2.2_SDK34\",\n",
      "  \"deleteTrack\": false,\n",
      "  \"userDisplayName\": \"Shawn Baker\",\n",
      "  \"numSpecies\": 7,\n",
      "  \"submissionMethodVersionDisp\": \"3.2.2\",\n",
      "  \"subAux\": [],\n",
      "  \"subAuxAi\": [],\n",
      "  \"projectIds\": [],\n",
      "  \"obs\": [\n",
      "    {\n",
      "      \"speciesCode\": \"sencou1\",\n",
      "      \"howManyAtleast\": 1,\n",
      "      \"howManyAtmost\": 1,\n",
      "      \"present\": false,\n",
      "      \"obsId\": \"OBS3245216167\",\n",
      "      \"howManyStr\": \"1\"\n",
      "    },\n",
      "    {\n",
      "      \"speciesCode\": \"litswi1\",\n",
      "      \"howManyAtleast\": 1,\n",
      "      \"howManyAtmost\": 999999999,\n",
      "      \"present\": true,\n",
      "      \"obsId\": \"OBS3245216168\",\n",
      "      \"howManyStr\": \"X\"\n",
      "    },\n",
      "    {\n",
      "      \"speciesCode\": \"lotcor1\",\n",
      "      \"howManyAtleast\": 1,\n",
      "      \"howManyAtmost\": 1,\n",
      "      \"present\": false,\n",
      "      \"obsId\": \"OBS3245216166\",\n",
      "      \"howManyStr\": \"1\"\n",
      "    },\n",
      "    {\n",
      "      \"speciesCode\": \"integr3\",\n",
      "      \"howManyAtleast\": 1,\n",
      "      \"howManyAtmost\": 1,\n",
      "      \"present\": false,\n",
      "      \"obsId\": \"OBS3245216163\",\n",
      "      \"howManyStr\": \"1\"\n",
      "    },\n",
      "    {\n",
      "      \"speciesCode\": \"piecro1\",\n",
      "      \"howManyAtleast\": 1,\n",
      "      \"howManyAtmost\": 999999999,\n",
      "      \"present\": true,\n",
      "      \"obsId\": \"OBS3245216164\",\n",
      "      \"howManyStr\": \"X\"\n",
      "    },\n",
      "    {\n",
      "      \"speciesCode\": \"rerswa12\",\n",
      "      \"howManyAtleast\": 1,\n",
      "      \"howManyAtmost\": 999999999,\n",
      "      \"comments\": \"Lots of them on wire and flying\",\n",
      "      \"present\": true,\n",
      "      \"obsId\": \"OBS3245216165\",\n",
      "      \"howManyStr\": \"X\"\n",
      "    },\n",
      "    {\n",
      "      \"speciesCode\": \"eaosun1\",\n",
      "      \"howManyAtleast\": 1,\n",
      "      \"howManyAtmost\": 1,\n",
      "      \"present\": false,\n",
      "      \"obsId\": \"OBS3245216162\",\n",
      "      \"howManyStr\": \"1\"\n",
      "    }\n",
      "  ]\n",
      "}\n"
     ]
    }
   ],
   "execution_count": 66
  },
  {
   "cell_type": "code",
   "id": "a03dea70-60be-4bdc-b4ba-ed3fe345820a",
   "metadata": {
    "ExecuteTime": {
     "end_time": "2025-06-13T10:31:36.842147Z",
     "start_time": "2025-06-13T10:31:36.833741Z"
    }
   },
   "source": [
    "# Fields used by the APILoader\n",
    "checklist.pop(\"subId\")\n",
    "checklist.pop(\"creationDt\")\n",
    "checklist.pop(\"lastEditedDt\")\n",
    "checklist.pop(\"obsDt\")\n",
    "checklist.pop(\"locId\")\n",
    "checklist.pop(\"userDisplayName\")\n",
    "checklist.pop(\"numSpecies\")\n",
    "checklist.pop(\"protocolId\")\n",
    "checklist.pop(\"projId\")\n",
    "checklist.pop(\"allObsReported\")\n",
    "checklist.pop(\"obsTimeValid\")\n",
    "checklist.pop(\"numObservers\")\n",
    "checklist.pop(\"durationHrs\", None)\n",
    "checklist.pop(\"effortDistanceKm\", None)\n",
    "checklist.pop(\"effortAreaHa\", None)\n",
    "checklist.pop(\"comments\", None)\n",
    "\n",
    "# Remove the observation for the next step\n",
    "observation =checklist.pop(\"obs\")[0]\n",
    "\n",
    "# Unused fields\n",
    "print(json.dumps(checklist, indent=2))"
   ],
   "outputs": [
    {
     "name": "stdout",
     "output_type": "stream",
     "text": [
      "{\n",
      "  \"checklistId\": \"CL26309\",\n",
      "  \"effortDistanceEnteredUnit\": \"km\",\n",
      "  \"subnational1Code\": \"SL-N\",\n",
      "  \"submissionMethodCode\": \"EBIRD_android\",\n",
      "  \"submissionMethodVersion\": \"3.2.2_SDK34\",\n",
      "  \"deleteTrack\": false,\n",
      "  \"submissionMethodVersionDisp\": \"3.2.2\",\n",
      "  \"subAux\": [],\n",
      "  \"subAuxAi\": [],\n",
      "  \"projectIds\": []\n",
      "}\n"
     ]
    }
   ],
   "execution_count": 67
  },
  {
   "cell_type": "code",
   "id": "1a2e8524-fede-4d95-b02b-9e1bd3b79d33",
   "metadata": {
    "ExecuteTime": {
     "end_time": "2025-06-13T10:31:36.889226Z",
     "start_time": "2025-06-13T10:31:36.878217Z"
    }
   },
   "source": "print(json.dumps(observation, indent=2))",
   "outputs": [
    {
     "name": "stdout",
     "output_type": "stream",
     "text": [
      "{\n",
      "  \"speciesCode\": \"sencou1\",\n",
      "  \"howManyAtleast\": 1,\n",
      "  \"howManyAtmost\": 1,\n",
      "  \"present\": false,\n",
      "  \"obsId\": \"OBS3245216167\",\n",
      "  \"howManyStr\": \"1\"\n",
      "}\n"
     ]
    }
   ],
   "execution_count": 68
  },
  {
   "cell_type": "code",
   "id": "b2935805-73b6-4177-8491-4d6f23a6493f",
   "metadata": {
    "ExecuteTime": {
     "end_time": "2025-06-13T10:31:36.948897Z",
     "start_time": "2025-06-13T10:31:36.944482Z"
    }
   },
   "source": [
    "# Fields used by the APILoader\n",
    "# The speciesCode is also used in the next step\n",
    "observation.pop(\"obsId\")\n",
    "speciesCode = observation.pop(\"speciesCode\")\n",
    "observation.pop(\"howManyStr\")\n",
    "observation.pop(\"comments\",None)\n",
    "\n",
    "# Unused fields\n",
    "print(json.dumps(observation, indent=2))"
   ],
   "outputs": [
    {
     "name": "stdout",
     "output_type": "stream",
     "text": [
      "{\n",
      "  \"howManyAtleast\": 1,\n",
      "  \"howManyAtmost\": 1,\n",
      "  \"present\": false\n",
      "}\n"
     ]
    }
   ],
   "execution_count": 69
  },
  {
   "cell_type": "code",
   "id": "884a2560-8996-45c5-8fe7-faae5ad39e54",
   "metadata": {
    "ExecuteTime": {
     "end_time": "2025-06-13T10:31:37.540669Z",
     "start_time": "2025-06-13T10:31:37.003642Z"
    }
   },
   "source": [
    "species = get_taxonomy(settings.EBIRD_API_KEY, locale='en', species=speciesCode)[0]\n",
    "print(json.dumps(species, indent=2))"
   ],
   "outputs": [
    {
     "name": "stdout",
     "output_type": "stream",
     "text": [
      "{\n",
      "  \"sciName\": \"Centropus senegalensis\",\n",
      "  \"comName\": \"Senegal Coucal\",\n",
      "  \"speciesCode\": \"sencou1\",\n",
      "  \"category\": \"species\",\n",
      "  \"taxonOrder\": 3056.0,\n",
      "  \"bandingCodes\": [],\n",
      "  \"comNameCodes\": [\n",
      "    \"SECO\"\n",
      "  ],\n",
      "  \"sciNameCodes\": [\n",
      "    \"CESE\"\n",
      "  ],\n",
      "  \"order\": \"Cuculiformes\",\n",
      "  \"familyCode\": \"cuculi1\",\n",
      "  \"familyComName\": \"Cuckoos\",\n",
      "  \"familySciName\": \"Cuculidae\"\n",
      "}\n"
     ]
    }
   ],
   "execution_count": 70
  },
  {
   "cell_type": "code",
   "id": "1b888141-5ab3-4821-b02e-c64a642fa74a",
   "metadata": {
    "ExecuteTime": {
     "end_time": "2025-06-13T10:31:37.577528Z",
     "start_time": "2025-06-13T10:31:37.565340Z"
    }
   },
   "source": [
    "# Fields used by the APILoader\n",
    "species.pop(\"taxonOrder\")\n",
    "species.pop(\"order\")\n",
    "species.pop(\"category\")\n",
    "species.pop(\"familyCode\")\n",
    "species.pop(\"comName\")\n",
    "species.pop(\"sciName\")\n",
    "species.pop(\"familyComName\")\n",
    "species.pop(\"familySciName\")\n",
    "\n",
    "# Note: speciesCode was taken from the observation to make the\n",
    "# API call to get the taxonomy record.\n",
    "species.pop(\"speciesCode\")\n",
    "\n",
    "# Unused fields\n",
    "print(json.dumps(species, indent=2))"
   ],
   "outputs": [
    {
     "name": "stdout",
     "output_type": "stream",
     "text": [
      "{\n",
      "  \"speciesCode\": \"sencou1\",\n",
      "  \"bandingCodes\": [],\n",
      "  \"comNameCodes\": [\n",
      "    \"SECO\"\n",
      "  ],\n",
      "  \"sciNameCodes\": [\n",
      "    \"CESE\"\n",
      "  ]\n",
      "}\n"
     ]
    }
   ],
   "execution_count": 71
  },
  {
   "cell_type": "code",
   "id": "2aec0c39-e479-46ab-8f5b-c8a15585883a",
   "metadata": {
    "ExecuteTime": {
     "end_time": "2025-06-13T10:31:37.617036Z",
     "start_time": "2025-06-13T10:31:37.613622Z"
    }
   },
   "source": [],
   "outputs": [],
   "execution_count": null
  }
 ],
 "metadata": {
  "kernelspec": {
   "display_name": "Django Kernel",
   "language": "python",
   "name": "django_extensions"
  },
  "language_info": {
   "codemirror_mode": {
    "name": "ipython",
    "version": 3
   },
   "file_extension": ".py",
   "mimetype": "text/x-python",
   "name": "python",
   "nbconvert_exporter": "python",
   "pygments_lexer": "ipython3",
   "version": "3.13.1"
  }
 },
 "nbformat": 4,
 "nbformat_minor": 5
}
