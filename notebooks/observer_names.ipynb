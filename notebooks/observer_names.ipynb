{
 "cells": [
  {
   "cell_type": "markdown",
   "id": "46d0710d-31f9-4039-8942-ad3de2eabcac",
   "metadata": {
    "ExecuteTime": {
     "end_time": "2025-04-08T05:55:00.690907Z",
     "start_time": "2025-04-08T05:55:00.639660Z"
    }
   },
   "source": [
    "# Observer names\n",
    "Some names, particularly for tour guides are long.\n",
    "This notebook looks at ways to shorten them."
   ]
  },
  {
   "cell_type": "markdown",
   "id": "5c12d0c4-bfc8-4059-9b87-aefa4325efed",
   "metadata": {
    "ExecuteTime": {
     "end_time": "2025-04-11T06:54:44.624692Z",
     "start_time": "2025-04-11T06:54:44.388719Z"
    }
   },
   "source": [
    "## History\n",
    "\n",
    "2025-05-03 Initial version"
   ]
  },
  {
   "cell_type": "code",
   "execution_count": null,
   "id": "5c9afda4-6dfa-49f4-b65c-35b44ac32142",
   "metadata": {
    "ExecuteTime": {
     "end_time": "2025-05-03T10:00:59.957453Z",
     "start_time": "2025-05-03T10:00:59.416404Z"
    }
   },
   "outputs": [],
   "source": [
    "from django.db.models.functions import Length\n",
    "from django.template.loader import render_to_string\n",
    "\n",
    "from IPython.display import display, HTML\n",
    "\n",
    "from data.models import Observer"
   ]
  },
  {
   "cell_type": "code",
   "execution_count": null,
   "id": "b58c0511-cd40-43f8-bb52-6c2a39c0dfda",
   "metadata": {
    "ExecuteTime": {
     "end_time": "2025-05-03T10:00:47.988095Z",
     "start_time": "2025-05-03T10:00:47.713914Z"
    }
   },
   "outputs": [],
   "source": [
    "# Top fifty longest names\n",
    "longest = Observer.objects.annotate(length=Length('name')).order_by(\"-length\")[:50]\n",
    "\n",
    "table = render_to_string(\"notebooks/observer-names.html\", {\"observers\": longest})\n",
    "display(HTML(table))"
   ]
  },
  {
   "cell_type": "code",
   "execution_count": null,
   "id": "2016fd0a-c8ef-480b-870d-b45a6ac6793d",
   "metadata": {
    "ExecuteTime": {
     "end_time": "2025-05-03T10:00:47.988095Z",
     "start_time": "2025-05-03T10:00:47.713914Z"
    }
   },
   "outputs": [],
   "source": [
    "# Names containing punctuation\n",
    "punctuated = Observer.objects.filter(name__regex=r\"(--|\\||\\\\|/)\")\n",
    "\n",
    "table = render_to_string(\"notebooks/observer-names.html\", {\"observers\": punctuated})\n",
    "display(HTML(table))"
   ]
  },
  {
   "cell_type": "code",
   "execution_count": null,
   "id": "ebafb882-3f71-4c24-8f70-2cbce2ede53d",
   "metadata": {},
   "outputs": [],
   "source": [
    "# Names containing double spaces\n",
    "spaces = Observer.objects.filter(name__contains=\"  \")\n",
    "\n",
    "table = render_to_string(\"notebooks/observer-names.html\", {\"observers\": spaces})\n",
    "display(HTML(table))"
   ]
  },
  {
   "cell_type": "code",
   "execution_count": null,
   "id": "3028a8e8-3b91-4563-842f-75fcccf299f9",
   "metadata": {
    "ExecuteTime": {
     "end_time": "2025-05-03T16:57:50.446381Z",
     "start_time": "2025-05-03T16:57:50.356704Z"
    }
   },
   "outputs": [],
   "source": [
    "# Shorten names\n",
    "import logging\n",
    "\n",
    "logger = logging.getLogger(__name__)\n",
    "\n",
    "# Normally there is a separator, |, -- between the name of the \n",
    "# observer and any commercial name. In case the name is only the\n",
    "# commercial name, check for the following keywords so the name\n",
    "# can be reviewed and manually changed.\n",
    "keywords = [\"Tours\", \"Guide\", \"www\", \".com\"]\n",
    "\n",
    "\n",
    "def remove_adverts(name):\n",
    "    for separator in [\"|\", \"--\"]:\n",
    "        if separator in name:\n",
    "            name = name.split(separator, 1)[0].strip()\n",
    "    return name\n",
    "\n",
    "\n",
    "def remove_extra_spaces(name):\n",
    "    if \"  \" in name:\n",
    "        name = name.replace(\"  \", \" \")\n",
    "    return name\n",
    "\n",
    "    \n",
    "def flag_keywords(name):\n",
    "    for keyword in keywords:\n",
    "        if keyword in name:\n",
    "            logger.warning(\"Review observer name: %s\", name)\n",
    "            \n",
    "\n",
    "def generate_byname(name) -> str:\n",
    "    cleaned = remove_adverts(name)\n",
    "    cleaned = remove_extra_spaces(cleaned)\n",
    "\n",
    "    flag_keywords(cleaned)\n",
    "\n",
    "    return cleaned if cleaned != name else \"\"\n",
    "\n",
    "\n",
    "with open('results/observers-original.txt', 'a') as fpo:\n",
    "    with open('results/observers-cleaned.txt', 'a') as fpc:\n",
    "        \n",
    "        for observer in Observer.objects.all():\n",
    "            observer.byname = generate_byname(observer.name)\n",
    "        \n",
    "            fpo.write(\"%s\\n\" % observer.name)\n",
    "            fpc.write(\"%s\\n\" % observer.original)\n",
    "\n",
    "print(\"Observer bynames generated\")"
   ]
  }
 ],
 "metadata": {
  "kernelspec": {
   "display_name": "Django Kernel",
   "language": "python",
   "name": "django_extensions"
  },
  "language_info": {
   "codemirror_mode": {
    "name": "ipython",
    "version": 3
   },
   "file_extension": ".py",
   "mimetype": "text/x-python",
   "name": "python",
   "nbconvert_exporter": "python",
   "pygments_lexer": "ipython3",
   "version": "3.13.1"
  }
 },
 "nbformat": 4,
 "nbformat_minor": 5
}
